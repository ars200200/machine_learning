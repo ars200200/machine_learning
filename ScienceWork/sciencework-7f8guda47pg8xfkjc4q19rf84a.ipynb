{
 "cells": [
  {
   "cell_type": "code",
   "execution_count": 53,
   "id": "bfafd67e",
   "metadata": {},
   "outputs": [],
   "source": [
    "import os\n",
    "import json\n",
    "import numpy as np\n",
    "import torch \n",
    "import transformers\n",
    "import warnings\n",
    "\n",
    "\n",
    "from sklearn.model_selection import train_test_split\n",
    "from datasets.dataset_dict import DatasetDict\n",
    "from datasets import Dataset\n",
    "\n",
    "warnings.filterwarnings('ignore')"
   ]
  },
  {
   "cell_type": "code",
   "execution_count": 54,
   "id": "e233cee6",
   "metadata": {},
   "outputs": [],
   "source": [
    "import transformers\n",
    "from transformers import T5Tokenizer, T5ForConditionalGeneration"
   ]
  },
  {
   "cell_type": "code",
   "execution_count": 56,
   "id": "15af3ef8",
   "metadata": {},
   "outputs": [],
   "source": [
    "path = os.path.abspath('interim/3/train.json')"
   ]
  },
  {
   "cell_type": "code",
   "execution_count": 57,
   "id": "7ae108a8",
   "metadata": {},
   "outputs": [],
   "source": [
    "path = os.path.abspath('interim/3/train.json')\n",
    "\n",
    "with open(path) as js:\n",
    "    full_review = json.load(js)"
   ]
  },
  {
   "cell_type": "code",
   "execution_count": 58,
   "id": "3265a40b",
   "metadata": {},
   "outputs": [],
   "source": [
    "review = [None] * len(full_review)\n",
    "\n",
    "for i in range(len(full_review)):\n",
    "    review[i] = full_review[i]['text']"
   ]
  },
  {
   "cell_type": "markdown",
   "id": "a0d9c029",
   "metadata": {},
   "source": [
    "## preprocessing"
   ]
  },
  {
   "cell_type": "code",
   "execution_count": 59,
   "id": "53fdd80d",
   "metadata": {},
   "outputs": [],
   "source": [
    "target = [None] * len(review)\n",
    "main_review = [None] * len(review)"
   ]
  },
  {
   "cell_type": "code",
   "execution_count": 60,
   "id": "41ad81e8",
   "metadata": {},
   "outputs": [],
   "source": [
    "for i in range(len(review)):\n",
    "    #delete general_impression from review\n",
    "    main_review[i] = review[i]\n",
    "    general_impression_idx = main_review[i].find('Общее впечатление')\n",
    "    if general_impression_idx != -1:\n",
    "        main_review[i] = main_review[i][:general_impression_idx]\n",
    "        \n",
    "    #delete everything before review\n",
    "    review_idx = main_review[i].find('Отзыв: ')\n",
    "    if review_idx != -1:\n",
    "        main_review[i] = main_review[i][review_idx + len('Отзыв: '):]\n",
    "        \n",
    "    #target \n",
    "    target_idx = main_review[i].find('\\n')\n",
    "    target[i] = main_review[i][:target_idx]\n",
    "\n",
    "    #delete \"TEXT\" and \"\\n\" if they exist \n",
    "    TEXT_idx = main_review[i].rfind('\\n')\n",
    "    if TEXT_idx != -1:\n",
    "        main_review[i] = main_review[i][TEXT_idx + len('\\n'):]\n",
    "    "
   ]
  },
  {
   "cell_type": "code",
   "execution_count": 8,
   "id": "e0b6b12b",
   "metadata": {},
   "outputs": [],
   "source": [
    "train_review, test_review, train_target, test_target = train_test_split(main_review, target)"
   ]
  },
  {
   "cell_type": "code",
   "execution_count": 9,
   "id": "61cb5fc7",
   "metadata": {},
   "outputs": [],
   "source": [
    "model_checkpoint = 'cointegrated/rut5-base-absum'"
   ]
  },
  {
   "cell_type": "code",
   "execution_count": 10,
   "id": "ea417e46",
   "metadata": {},
   "outputs": [
    {
     "name": "stderr",
     "output_type": "stream",
     "text": [
      "You are using the default legacy behaviour of the <class 'transformers.models.t5.tokenization_t5.T5Tokenizer'>. If you see this, DO NOT PANIC! This is expected, and simply means that the `legacy` (previous) behavior will be used so nothing changes for you. If you want to use the new behaviour, set `legacy=True`. This should only be set if you understand what it means, and thouroughly read the reason why this was added as explained in https://github.com/huggingface/transformers/pull/24565\n"
     ]
    }
   ],
   "source": [
    "tokenizer = T5Tokenizer.from_pretrained(model_checkpoint)\n",
    "model = T5ForConditionalGeneration.from_pretrained(model_checkpoint)"
   ]
  },
  {
   "cell_type": "code",
   "execution_count": 11,
   "id": "04fad729",
   "metadata": {},
   "outputs": [],
   "source": [
    "data = {'train':Dataset.from_dict({'summary':train_target,'text':train_review}),\n",
    "     'test':Dataset.from_dict({'summary':test_target,'text':test_review})\n",
    "     }\n",
    "\n",
    "data = DatasetDict(data)"
   ]
  },
  {
   "cell_type": "code",
   "execution_count": 12,
   "id": "6d086972",
   "metadata": {},
   "outputs": [
    {
     "data": {
      "text/plain": [
       "DatasetDict({\n",
       "    train: Dataset({\n",
       "        features: ['summary', 'text'],\n",
       "        num_rows: 2200\n",
       "    })\n",
       "    test: Dataset({\n",
       "        features: ['summary', 'text'],\n",
       "        num_rows: 734\n",
       "    })\n",
       "})"
      ]
     },
     "execution_count": 12,
     "metadata": {},
     "output_type": "execute_result"
    }
   ],
   "source": [
    "data"
   ]
  },
  {
   "cell_type": "code",
   "execution_count": 33,
   "id": "7d5e3649",
   "metadata": {},
   "outputs": [],
   "source": [
    "max_intput_length = 1024\n",
    "max_target_length = 128\n",
    "min_target_length = 50"
   ]
  },
  {
   "cell_type": "code",
   "execution_count": 14,
   "id": "274bf387",
   "metadata": {},
   "outputs": [],
   "source": [
    "def preprocess_function(examples):\n",
    "    type(examples)\n",
    "    model_inputs = tokenizer(examples[\"text\"], max_length=max_intput_length, truncation=True, padding=True)\n",
    "\n",
    "    labels = tokenizer(text_target=examples[\"summary\"], max_length=max_target_length, truncation=True)\n",
    "\n",
    "    model_inputs[\"labels\"] = labels[\"input_ids\"]\n",
    "    return model_inputs"
   ]
  },
  {
   "cell_type": "code",
   "execution_count": 15,
   "id": "3199a885",
   "metadata": {},
   "outputs": [
    {
     "data": {
      "application/vnd.jupyter.widget-view+json": {
       "model_id": "",
       "version_major": 2,
       "version_minor": 0
      },
      "text/plain": [
       "Map:   0%|          | 0/2200 [00:00<?, ? examples/s]"
      ]
     },
     "metadata": {},
     "output_type": "display_data"
    },
    {
     "data": {
      "application/vnd.jupyter.widget-view+json": {
       "model_id": "",
       "version_major": 2,
       "version_minor": 0
      },
      "text/plain": [
       "Map:   0%|          | 0/734 [00:00<?, ? examples/s]"
      ]
     },
     "metadata": {},
     "output_type": "display_data"
    }
   ],
   "source": [
    "tokenized_data = data.map(preprocess_function, batched=True)"
   ]
  },
  {
   "cell_type": "code",
   "execution_count": 16,
   "id": "9a9459e6",
   "metadata": {},
   "outputs": [],
   "source": [
    "data_collator = transformers.DataCollatorForSeq2Seq(tokenizer=tokenizer, model=model)"
   ]
  },
  {
   "cell_type": "code",
   "execution_count": 17,
   "id": "1532338c",
   "metadata": {},
   "outputs": [],
   "source": [
    "training_args = transformers.Seq2SeqTrainingArguments(\n",
    "        output_dir=\"./results\",\n",
    "        evaluation_strategy=\"epoch\",\n",
    "        learning_rate=2e-5,\n",
    "        per_device_train_batch_size=1,\n",
    "        per_device_eval_batch_size=1,\n",
    "        weight_decay=0.01,\n",
    "        save_total_limit=3,\n",
    "        num_train_epochs=2,\n",
    "    )"
   ]
  },
  {
   "cell_type": "code",
   "execution_count": 18,
   "id": "6a4f28ec",
   "metadata": {},
   "outputs": [],
   "source": [
    "trainer = transformers.Seq2SeqTrainer(\n",
    "    model=model,\n",
    "    args=training_args,\n",
    "    train_dataset=tokenized_data[\"train\"],\n",
    "    eval_dataset=tokenized_data[\"test\"],\n",
    "    tokenizer=tokenizer,\n",
    "    data_collator=data_collator,\n",
    ")"
   ]
  },
  {
   "cell_type": "code",
   "execution_count": 19,
   "id": "d29d23c1",
   "metadata": {},
   "outputs": [
    {
     "data": {
      "text/html": [
       "\n",
       "    <div>\n",
       "      \n",
       "      <progress value='4400' max='4400' style='width:300px; height:20px; vertical-align: middle;'></progress>\n",
       "      [4400/4400 19:07, Epoch 2/2]\n",
       "    </div>\n",
       "    <table border=\"1\" class=\"dataframe\">\n",
       "  <thead>\n",
       " <tr style=\"text-align: left;\">\n",
       "      <th>Epoch</th>\n",
       "      <th>Training Loss</th>\n",
       "      <th>Validation Loss</th>\n",
       "    </tr>\n",
       "  </thead>\n",
       "  <tbody>\n",
       "    <tr>\n",
       "      <td>1</td>\n",
       "      <td>2.625400</td>\n",
       "      <td>2.080383</td>\n",
       "    </tr>\n",
       "    <tr>\n",
       "      <td>2</td>\n",
       "      <td>2.320300</td>\n",
       "      <td>1.996558</td>\n",
       "    </tr>\n",
       "  </tbody>\n",
       "</table><p>"
      ],
      "text/plain": [
       "<IPython.core.display.HTML object>"
      ]
     },
     "metadata": {},
     "output_type": "display_data"
    },
    {
     "data": {
      "text/plain": [
       "TrainOutput(global_step=4400, training_loss=2.5970169760964135, metrics={'train_runtime': 1148.8978, 'train_samples_per_second': 3.83, 'train_steps_per_second': 3.83, 'total_flos': 3075808886784000.0, 'train_loss': 2.5970169760964135, 'epoch': 2.0})"
      ]
     },
     "execution_count": 19,
     "metadata": {},
     "output_type": "execute_result"
    }
   ],
   "source": [
    "trainer.train()"
   ]
  },
  {
   "cell_type": "code",
   "execution_count": 46,
   "id": "c67d80e8",
   "metadata": {},
   "outputs": [],
   "source": [
    "device = 'cuda' if torch.cuda.is_available() else 'cpu'"
   ]
  },
  {
   "cell_type": "code",
   "execution_count": 45,
   "id": "03be6193",
   "metadata": {},
   "outputs": [
    {
     "name": "stdout",
     "output_type": "stream",
     "text": [
      "У моей сестры появилось такое заболевание, как экземный дерматит. Вещь не заразная, но очень неприятная как косметически, так и по ощущениям заболевшего. Врач после осмотра и анализов, назначил лечение в виде таблеток, мазей (про которые я напишу позже) и курс из двадцати уколов супрастина, про которого и пойдет речь в сегодняшнем отзыве. Продаются по рецепту, в упаковка по пять ампул в каждой. Стоимость упаковки составляет сто сорок три рубля с копейками. Пять маленьких стеклянных ампул с 1 мл лекарственного раствора в каждом. На горлышке ампул есть место слома. Они лежат в коробочке так, что если ее уронить, то ампулы не разобьются, проверено на собственном опыте. Данный раствор вводится как внутримышечно так и внутревенно. Показаниями являются аллергии и различные дерматиты. Противопоказания тоже есть, самый главный детский возраст и беременность. Дозу определяет врач в зависимости от типа и степени заболевания. Нам назначали по одной ампуле два раза в день, внутримышечно. Побочных действий очень много, у моей сестры проявилась только сонливость. Уколы принесли свой результат кожа побелела и начала иметь здоровый вид. Советую использовать раствор для уколов Супрастин, но только после назначения врачом!!!!\n"
     ]
    }
   ],
   "source": [
    "text_example = data[\"test\"]['text'][0]\n",
    "print(text_example)"
   ]
  },
  {
   "cell_type": "code",
   "execution_count": 47,
   "id": "28310b09",
   "metadata": {},
   "outputs": [],
   "source": [
    "input_ids = tokenizer.encode(\n",
    "    text_example,\n",
    "    return_tensors=\"pt\",\n",
    "    max_length=1024,\n",
    "    truncation=True,\n",
    "    ).to(device)"
   ]
  },
  {
   "cell_type": "code",
   "execution_count": 34,
   "id": "ebd784f9",
   "metadata": {},
   "outputs": [],
   "source": [
    "summary_text_ids = model.generate(\n",
    "    input_ids=input_ids,\n",
    "    bos_token_id=model.config.bos_token_id,\n",
    "    eos_token_id=model.config.eos_token_id,\n",
    "    max_length=max_target_length,\n",
    "    min_length=min_target_length,\n",
    "    num_beams=4,\n",
    ")"
   ]
  },
  {
   "cell_type": "code",
   "execution_count": 35,
   "id": "aa51ca93",
   "metadata": {},
   "outputs": [
    {
     "data": {
      "text/plain": [
       "tensor([[    0,   259, 19005,  1968, 18522,  1292,  6109,   313, 17327, 17743,\n",
       "         16768,   311,   259,   264,   259, 14061,  1909,  5548,   411,   259,\n",
       "           735,   259, 11523, 19156,  1122,  1188, 27347, 14461,   261,  1349,\n",
       "           259,  2021,  1652, 11547,  1454,  7540,   637,   309,   309,   309,\n",
       "           309,   309,   309,   309,   309,   309,   309,   309,   309,   309,\n",
       "             1]], device='cuda:0')"
      ]
     },
     "execution_count": 35,
     "metadata": {},
     "output_type": "execute_result"
    }
   ],
   "source": [
    "summary_text_ids"
   ]
  },
  {
   "cell_type": "code",
   "execution_count": 42,
   "id": "8549d63a",
   "metadata": {},
   "outputs": [
    {
     "data": {
      "text/plain": [
       "'Противовирусный препарат \"Супрастин\" - Хорошее средство для лечения экземного дерматита, но только после назначения врачом!!!!!!!!!!!!!'"
      ]
     },
     "execution_count": 42,
     "metadata": {},
     "output_type": "execute_result"
    }
   ],
   "source": [
    "decoded_text = tokenizer.decode(summary_text_ids[0], skip_special_tokens=True)\n",
    "decoded_text"
   ]
  },
  {
   "cell_type": "code",
   "execution_count": 43,
   "id": "699c7e84",
   "metadata": {},
   "outputs": [
    {
     "data": {
      "text/plain": [
       "'Раствор для внутривенного и внутримышечного введения Egis \"Супрастин\" - Помог при экземном дерматите'"
      ]
     },
     "execution_count": 43,
     "metadata": {},
     "output_type": "execute_result"
    }
   ],
   "source": [
    "data['test']['summary'][0]"
   ]
  },
  {
   "cell_type": "code",
   "execution_count": null,
   "id": "a52dc5f6",
   "metadata": {},
   "outputs": [],
   "source": []
  }
 ],
 "metadata": {
  "kernelspec": {
   "display_name": "my_env",
   "language": "python",
   "name": "my_env"
  },
  "language_info": {
   "codemirror_mode": {
    "name": "ipython",
    "version": 3
   },
   "file_extension": ".py",
   "mimetype": "text/x-python",
   "name": "python",
   "nbconvert_exporter": "python",
   "pygments_lexer": "ipython3",
   "version": "3.11.5"
  }
 },
 "nbformat": 4,
 "nbformat_minor": 5
}
