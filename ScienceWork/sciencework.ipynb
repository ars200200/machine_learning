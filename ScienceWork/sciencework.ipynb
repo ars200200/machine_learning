{
 "cells": [
  {
   "cell_type": "code",
   "execution_count": 1,
   "id": "bfafd67e",
   "metadata": {},
   "outputs": [],
   "source": [
    "import os\n",
    "import json\n",
    "import numpy as np\n",
    "import torch \n",
    "import transformers\n",
    "import warnings\n",
    "\n",
    "\n",
    "from sklearn.model_selection import train_test_split\n",
    "from datasets.dataset_dict import DatasetDict\n",
    "from datasets import Dataset\n",
    "\n",
    "warnings.filterwarnings('ignore')"
   ]
  },
  {
   "cell_type": "code",
   "execution_count": 3,
   "id": "e233cee6",
   "metadata": {},
   "outputs": [],
   "source": [
    "import transformers\n",
    "from transformers import T5Tokenizer, T5ForConditionalGeneration"
   ]
  },
  {
   "cell_type": "code",
   "execution_count": 4,
   "id": "15af3ef8",
   "metadata": {},
   "outputs": [],
   "source": [
    "path = os.path.abspath('interim/3/train.json')"
   ]
  },
  {
   "cell_type": "code",
   "execution_count": 5,
   "id": "7ae108a8",
   "metadata": {},
   "outputs": [],
   "source": [
    "path = os.path.abspath('interim/3/train.json')\n",
    "\n",
    "with open(path) as js:\n",
    "    full_review = json.load(js)"
   ]
  },
  {
   "cell_type": "code",
   "execution_count": 6,
   "id": "3265a40b",
   "metadata": {},
   "outputs": [],
   "source": [
    "review = [None] * len(full_review)\n",
    "\n",
    "for i in range(len(full_review)):\n",
    "    review[i] = full_review[i]['text']"
   ]
  },
  {
   "cell_type": "markdown",
   "id": "a0d9c029",
   "metadata": {},
   "source": [
    "## preprocessing"
   ]
  },
  {
   "cell_type": "code",
   "execution_count": 7,
   "id": "53fdd80d",
   "metadata": {},
   "outputs": [],
   "source": [
    "target = [None] * len(review)\n",
    "main_review = [None] * len(review)"
   ]
  },
  {
   "cell_type": "code",
   "execution_count": 8,
   "id": "41ad81e8",
   "metadata": {},
   "outputs": [],
   "source": [
    "for i in range(len(review)):\n",
    "    #delete general_impression from review\n",
    "    main_review[i] = review[i]\n",
    "    general_impression_idx = main_review[i].find('Общее впечатление')\n",
    "    if general_impression_idx != -1:\n",
    "        main_review[i] = main_review[i][:general_impression_idx]\n",
    "        \n",
    "    #delete everything before review\n",
    "    review_idx = main_review[i].find('Отзыв: ')\n",
    "    if review_idx != -1:\n",
    "        main_review[i] = main_review[i][review_idx + len('Отзыв: '):]\n",
    "        \n",
    "    #target \n",
    "    target_idx = main_review[i].find('\\n')\n",
    "    target[i] = main_review[i][:target_idx]\n",
    "\n",
    "    #delete \"TEXT\" and \"\\n\" if they exist \n",
    "    TEXT_idx = main_review[i].rfind('\\n')\n",
    "    if TEXT_idx != -1:\n",
    "        main_review[i] = main_review[i][TEXT_idx + len('\\n'):]\n",
    "    "
   ]
  },
  {
   "cell_type": "code",
   "execution_count": 9,
   "id": "e0b6b12b",
   "metadata": {},
   "outputs": [],
   "source": [
    "train_review, test_review, train_target, test_target = train_test_split(main_review, target)"
   ]
  },
  {
   "cell_type": "code",
   "execution_count": 10,
   "id": "61cb5fc7",
   "metadata": {},
   "outputs": [],
   "source": [
    "model_checkpoint = 'cointegrated/rut5-base-absum'"
   ]
  },
  {
   "cell_type": "code",
   "execution_count": 11,
   "id": "ea417e46",
   "metadata": {},
   "outputs": [
    {
     "name": "stderr",
     "output_type": "stream",
     "text": [
      "You are using the default legacy behaviour of the <class 'transformers.models.t5.tokenization_t5.T5Tokenizer'>. If you see this, DO NOT PANIC! This is expected, and simply means that the `legacy` (previous) behavior will be used so nothing changes for you. If you want to use the new behaviour, set `legacy=True`. This should only be set if you understand what it means, and thouroughly read the reason why this was added as explained in https://github.com/huggingface/transformers/pull/24565\n"
     ]
    }
   ],
   "source": [
    "tokenizer = T5Tokenizer.from_pretrained(model_checkpoint)\n",
    "model = T5ForConditionalGeneration.from_pretrained(model_checkpoint)"
   ]
  },
  {
   "cell_type": "code",
   "execution_count": 12,
   "id": "04fad729",
   "metadata": {},
   "outputs": [],
   "source": [
    "data = {'train':Dataset.from_dict({'summary':train_target,'text':train_review}),\n",
    "     'test':Dataset.from_dict({'summary':test_target,'text':test_review})\n",
    "     }\n",
    "\n",
    "data = DatasetDict(data)"
   ]
  },
  {
   "cell_type": "code",
   "execution_count": 13,
   "id": "6d086972",
   "metadata": {},
   "outputs": [
    {
     "data": {
      "text/plain": [
       "DatasetDict({\n",
       "    train: Dataset({\n",
       "        features: ['summary', 'text'],\n",
       "        num_rows: 2200\n",
       "    })\n",
       "    test: Dataset({\n",
       "        features: ['summary', 'text'],\n",
       "        num_rows: 734\n",
       "    })\n",
       "})"
      ]
     },
     "execution_count": 13,
     "metadata": {},
     "output_type": "execute_result"
    }
   ],
   "source": [
    "data"
   ]
  },
  {
   "cell_type": "code",
   "execution_count": 29,
   "id": "7d5e3649",
   "metadata": {},
   "outputs": [],
   "source": [
    "max_intput_length = 1024\n",
    "max_target_length = 128"
   ]
  },
  {
   "cell_type": "code",
   "execution_count": 30,
   "id": "274bf387",
   "metadata": {},
   "outputs": [],
   "source": [
    "def preprocess_function(examples):\n",
    "    type(examples)\n",
    "    model_inputs = tokenizer(examples[\"text\"], max_length=max_intput_length, truncation=True, padding=True)\n",
    "\n",
    "    labels = tokenizer(text_target=examples[\"summary\"], max_length=max_target_length, truncation=True)\n",
    "\n",
    "    model_inputs[\"labels\"] = labels[\"input_ids\"]\n",
    "    return model_inputs"
   ]
  },
  {
   "cell_type": "code",
   "execution_count": 31,
   "id": "3199a885",
   "metadata": {},
   "outputs": [
    {
     "data": {
      "application/vnd.jupyter.widget-view+json": {
       "model_id": "",
       "version_major": 2,
       "version_minor": 0
      },
      "text/plain": [
       "Map:   0%|          | 0/2200 [00:00<?, ? examples/s]"
      ]
     },
     "metadata": {},
     "output_type": "display_data"
    },
    {
     "data": {
      "application/vnd.jupyter.widget-view+json": {
       "model_id": "",
       "version_major": 2,
       "version_minor": 0
      },
      "text/plain": [
       "Map:   0%|          | 0/734 [00:00<?, ? examples/s]"
      ]
     },
     "metadata": {},
     "output_type": "display_data"
    }
   ],
   "source": [
    "tokenized_data = data.map(preprocess_function, batched=True)"
   ]
  },
  {
   "cell_type": "code",
   "execution_count": 32,
   "id": "9a9459e6",
   "metadata": {},
   "outputs": [],
   "source": [
    "data_collator = transformers.DataCollatorForSeq2Seq(tokenizer=tokenizer, model=model)"
   ]
  },
  {
   "cell_type": "code",
   "execution_count": 106,
   "id": "1532338c",
   "metadata": {},
   "outputs": [],
   "source": [
    "training_args = transformers.Seq2SeqTrainingArguments(\n",
    "        output_dir=\"./results\",\n",
    "        evaluation_strategy=\"epoch\",\n",
    "        learning_rate=2e-5,\n",
    "        per_device_train_batch_size=1,\n",
    "        per_device_eval_batch_size=1,\n",
    "        weight_decay=0.01,\n",
    "        save_total_limit=3,\n",
    "        num_train_epochs=6,\n",
    "    )"
   ]
  },
  {
   "cell_type": "code",
   "execution_count": 107,
   "id": "6a4f28ec",
   "metadata": {},
   "outputs": [],
   "source": [
    "trainer = transformers.Seq2SeqTrainer(\n",
    "    model=model,\n",
    "    args=training_args,\n",
    "    train_dataset=tokenized_data[\"train\"],\n",
    "    eval_dataset=tokenized_data[\"test\"],\n",
    "    tokenizer=tokenizer,\n",
    "    data_collator=data_collator,\n",
    ")"
   ]
  },
  {
   "cell_type": "code",
   "execution_count": 108,
   "id": "d29d23c1",
   "metadata": {},
   "outputs": [
    {
     "data": {
      "text/html": [
       "\n",
       "    <div>\n",
       "      \n",
       "      <progress value='13200' max='13200' style='width:300px; height:20px; vertical-align: middle;'></progress>\n",
       "      [13200/13200 48:27, Epoch 6/6]\n",
       "    </div>\n",
       "    <table border=\"1\" class=\"dataframe\">\n",
       "  <thead>\n",
       " <tr style=\"text-align: left;\">\n",
       "      <th>Epoch</th>\n",
       "      <th>Training Loss</th>\n",
       "      <th>Validation Loss</th>\n",
       "    </tr>\n",
       "  </thead>\n",
       "  <tbody>\n",
       "    <tr>\n",
       "      <td>1</td>\n",
       "      <td>1.964900</td>\n",
       "      <td>1.861135</td>\n",
       "    </tr>\n",
       "    <tr>\n",
       "      <td>2</td>\n",
       "      <td>2.070300</td>\n",
       "      <td>1.793932</td>\n",
       "    </tr>\n",
       "    <tr>\n",
       "      <td>3</td>\n",
       "      <td>1.906800</td>\n",
       "      <td>1.731060</td>\n",
       "    </tr>\n",
       "    <tr>\n",
       "      <td>4</td>\n",
       "      <td>1.820700</td>\n",
       "      <td>1.707372</td>\n",
       "    </tr>\n",
       "    <tr>\n",
       "      <td>5</td>\n",
       "      <td>1.783700</td>\n",
       "      <td>1.701762</td>\n",
       "    </tr>\n",
       "    <tr>\n",
       "      <td>6</td>\n",
       "      <td>1.694800</td>\n",
       "      <td>1.699989</td>\n",
       "    </tr>\n",
       "  </tbody>\n",
       "</table><p>"
      ],
      "text/plain": [
       "<IPython.core.display.HTML object>"
      ]
     },
     "metadata": {},
     "output_type": "display_data"
    },
    {
     "data": {
      "text/plain": [
       "TrainOutput(global_step=13200, training_loss=1.8768957704486269, metrics={'train_runtime': 2908.0423, 'train_samples_per_second': 4.539, 'train_steps_per_second': 4.539, 'total_flos': 9225833527296000.0, 'train_loss': 1.8768957704486269, 'epoch': 6.0})"
      ]
     },
     "execution_count": 108,
     "metadata": {},
     "output_type": "execute_result"
    }
   ],
   "source": [
    "trainer.train()"
   ]
  },
  {
   "cell_type": "code",
   "execution_count": 22,
   "id": "c67d80e8",
   "metadata": {},
   "outputs": [
    {
     "data": {
      "text/plain": [
       "'cuda'"
      ]
     },
     "execution_count": 22,
     "metadata": {},
     "output_type": "execute_result"
    }
   ],
   "source": [
    "device = 'cuda' if torch.cuda.is_available() else 'cpu'\n",
    "device"
   ]
  },
  {
   "cell_type": "code",
   "execution_count": 109,
   "id": "03be6193",
   "metadata": {},
   "outputs": [
    {
     "name": "stdout",
     "output_type": "stream",
     "text": [
      "Впервые использовала свечи Макмирор после аборта на сроке почти 3 месяца. Из меня еще продолжали выходить мелкие куски и начались признаки воспаления. Это общая слабость, плохой цвет лица, воспаленные прыщи по лицу и плечам. Проставила 8 дней свечи Макмирор и как рукой сняло. При чем ни каких антибиотиков параллельно не принимала. Очень рекомендую женщинам при несильных воспалителтных процессах женских половых органов.\n"
     ]
    }
   ],
   "source": [
    "text_example = data[\"test\"]['text'][-1]\n",
    "print(text_example)"
   ]
  },
  {
   "cell_type": "code",
   "execution_count": 110,
   "id": "7a117a03",
   "metadata": {},
   "outputs": [],
   "source": [
    " input_ids = tokenizer.encode(\n",
    "    text_example,\n",
    "    return_tensors=\"pt\",\n",
    "    max_length=1024,\n",
    "    truncation=True,\n",
    "    ).to(device)"
   ]
  },
  {
   "cell_type": "code",
   "execution_count": 111,
   "id": "ebd784f9",
   "metadata": {},
   "outputs": [],
   "source": [
    "summary_text_ids = model.generate(\n",
    "    input_ids=input_ids,\n",
    "    bos_token_id=model.config.bos_token_id,\n",
    "    eos_token_id=model.config.eos_token_id,\n",
    "    max_length=max_target_length,\n",
    "    num_beams=4,\n",
    ")"
   ]
  },
  {
   "cell_type": "code",
   "execution_count": 112,
   "id": "aa51ca93",
   "metadata": {},
   "outputs": [
    {
     "data": {
      "text/plain": [
       "tensor([[    0, 14091,  2228, 19452, 29146, 10036,  5840,  2307,   313,  7911,\n",
       "          1280, 20118,   311,   259,   264,   259, 14061,  1909,  5548,   411,\n",
       "           805,   315, 15477,  8383,  4591,  1123, 11888,  3351,  2534,  3951,\n",
       "          2681,   685,     1]], device='cuda:0')"
      ]
     },
     "execution_count": 112,
     "metadata": {},
     "output_type": "execute_result"
    }
   ],
   "source": [
    "summary_text_ids"
   ]
  },
  {
   "cell_type": "code",
   "execution_count": 113,
   "id": "8549d63a",
   "metadata": {},
   "outputs": [
    {
     "data": {
      "text/plain": [
       "'Свечи ректальные Макмирор \"150000 МЕ\" - Хорошее средство при воспалительных процессах женских половых органов'"
      ]
     },
     "execution_count": 113,
     "metadata": {},
     "output_type": "execute_result"
    }
   ],
   "source": [
    "decoded_text = tokenizer.decode(summary_text_ids[0], skip_special_tokens=True)\n",
    "decoded_text"
   ]
  },
  {
   "cell_type": "code",
   "execution_count": 114,
   "id": "699c7e84",
   "metadata": {},
   "outputs": [
    {
     "data": {
      "text/plain": [
       "'Суппозитории вагинальные Макмирор - Свечи Макмирор удобные в использовании не мнутся не растекаются в руках.'"
      ]
     },
     "execution_count": 114,
     "metadata": {},
     "output_type": "execute_result"
    }
   ],
   "source": [
    "data['test']['summary'][-1]"
   ]
  },
  {
   "cell_type": "code",
   "execution_count": 115,
   "id": "a52dc5f6",
   "metadata": {},
   "outputs": [],
   "source": [
    "import evaluate\n",
    "from tqdm import tqdm"
   ]
  },
  {
   "cell_type": "code",
   "execution_count": 116,
   "id": "8d753f68",
   "metadata": {},
   "outputs": [],
   "source": [
    "rouge = evaluate.load('rouge')"
   ]
  },
  {
   "cell_type": "code",
   "execution_count": 132,
   "id": "0bdb35a7",
   "metadata": {
    "scrolled": true
   },
   "outputs": [
    {
     "name": "stderr",
     "output_type": "stream",
     "text": [
      "  0%|                                           | 1/734 [00:00<03:45,  3.25it/s]"
     ]
    },
    {
     "name": "stdout",
     "output_type": "stream",
     "text": [
      "Таблетки Биотики \"Бисакодил\" - Хороший слабительный препарат\n",
      "____________________\n",
      "Давно страдаю запорами, не знаю причину. Обычно не обращала на это особого внимания, пока не появился геморрой, который стал следствием нарушения регулярности стула. Сделали операцию и предупредили, что стул должен быть регулярным иначе будут другие проблемы. За неимением желания тратить много денег на слабительные решила попробовать уладить свою проблему при помощи Бисакодила. Стоит он чуть больше 20 рублей, что несомненно порадовало, но возникло сомнение в его эффективности. Выпив одну таблетку на ночь, я не ощутила никакого эффекта вечером, но утром обалдела, он реально действенный. Однако днем следующего дня побаливал живот терпимо конечно, но неприятно.  После 2 таблетки у меня было ощущение будто меня выворачивает изнутри, боли были сильные, но и эффект тоже через чур. Решила, что нужно поменять данное средство на более мягкое в действии.\n"
     ]
    },
    {
     "name": "stderr",
     "output_type": "stream",
     "text": [
      "\r",
      "  0%|                                           | 2/734 [00:00<04:35,  2.66it/s]"
     ]
    },
    {
     "name": "stdout",
     "output_type": "stream",
     "text": [
      "Витамины для наружного применения \"Глицин\" - Не советую никому!\n",
      "____________________\n",
      "Должна сразу отметить, что с ужасным недоверием отношусь ко всем витаминам ( да и к лекарствам в целом) которые сделаны в России. Но мне их так рекомендовал врач! Говорила, что они одни из лучших и тем более маленькая цена. Тогда я еще не знала, что существуют просто потрясающие витамины, я уже писала о нем отзыв  . Сияние, нужно было пить 1 таблетку в день в течении месяца. Но уже спустя 1 неделю я утром проснулась с ужасной сыпью на лице, которая к вечеру обернулась еще и зудом. Я позвонила врачу и она мне сказала, да, бывает и такое. Попробуйте отменить их на неделю, посмотрим что будет. Я так и сделала(+пила средства от аллергии, и мазала прыщики). Через дней 5 почти все прошло кроме оставшиеся небольшой сыпи. Пить их больше не стала. После узнала у дерматолога, что эти витамины сплошная химия! Ничего хорошего в них нет! Ах да, меня еще по утрам от них тошнило! Не советую никому, никогда!  Купите лучше достойные витамины которые помогают! На них выше оставлена ссылка. \n"
     ]
    },
    {
     "name": "stderr",
     "output_type": "stream",
     "text": [
      "\r",
      "  0%|▏                                          | 3/734 [00:01<04:53,  2.49it/s]"
     ]
    },
    {
     "name": "stdout",
     "output_type": "stream",
     "text": [
      "Противовирусный препарат Bittner Richard Афлубин - Хорошая защита от гриппа и простуды\n",
      "____________________\n",
      "Применяю эту мазь себе и детям. Когда начинается сезон простуды и гриппа, весной и осенью, каждый год. Применяла и при беременности, Когда ходила в поликлинику, или когда нужно идти куда-то, где большое скопление людей. В общем вроде действует, с ней пока не заболевали, тьфу-тьфу... Дополнительно я ничего не предпринимаю в целях профилактики... Мазь довольно-таки густая, не имеет запаха, неприятных ощущений я не замечала. Дети не сопротивляются, значит неприятных ощущений тоже не испытывают. Мне кажется что это неплохая защита от простуды и ОРВИ, безопасная. А главное, что доступная и недорогая. Рекомендую всем, кто не хочет болеть. Время использования: 2 года Стоимость: 50 руб. Год выпуска/покупки: 2014 \n"
     ]
    },
    {
     "name": "stderr",
     "output_type": "stream",
     "text": [
      "\r",
      "  1%|▏                                          | 4/734 [00:01<04:27,  2.73it/s]"
     ]
    },
    {
     "name": "stdout",
     "output_type": "stream",
     "text": [
      "Противовирусный препарат Биокад \"Валосердин\" - Хороший сон\n",
      "____________________\n",
      "Друг посоветовал, как снотворное средство так, как часто очень плохо сплю. Последнее время даже демидрол не помогал. Валосердин очень хорошо помогает, сон хороший после его применения. Единственный минус, следующий день ходишь не много заторможенным. Ну тут выбор либо хороший сон и блаженство в течении следующего дня, либо плохой сон и соответственно весь день разбитый. Главное с дозировкой аккуратнее- не больше 10-15 капель на 30-50 грамм воды за час- два перед сном, иначе на следующий день может болеть затылок, давление повыситься и будешь ходить как убитый. В целом препарату ставлю оценку пять, всем советую у кого проблемы со сном.\n"
     ]
    },
    {
     "name": "stderr",
     "output_type": "stream",
     "text": [
      "\r",
      "  1%|▎                                          | 5/734 [00:01<04:25,  2.75it/s]"
     ]
    },
    {
     "name": "stdout",
     "output_type": "stream",
     "text": [
      "Противовирусный препарат Bittner Richard Ликопид - Не помог\n",
      "____________________\n",
      "Добрый день! Препарат \"Ликопид\" покупала для лечения герпеса. У меня хроническая часто рецидивирующая форма, болею 10-12 раз в году, даже в летний период. Очаг высыпания на спине, практически всегда в одном месте. Температура выше субфибрильной 37,2 не поднимается, но самочувствие при этом- полная дрянь. Поэтому с препаратами группы \"Иммуностимуляторы\" и \"Иммуномодуляторы\", а так же антивирусные, знакома не по наслышке. Ликопид пропила по курсу, как заявлено производителем в инструкции. Лечение было комплексным (препараты для кишечника, полисорб и т. л.). Эффекта я не получила никакого. Разочарована, так как пьешь в надежде на хотя бы месячную ремиссию, тратишь деньги(стоит не дешево), о времени и надеждах вообще не упоминаю. Вообще сложилось впечатление, что это всё плацеба, не помог ни разу ни один препарат. Не рекомендую. Время использования: 2014 Год выпуска/покупки: 2014 \n"
     ]
    },
    {
     "name": "stderr",
     "output_type": "stream",
     "text": [
      "\r",
      "  1%|▎                                          | 6/734 [00:02<04:30,  2.69it/s]"
     ]
    },
    {
     "name": "stdout",
     "output_type": "stream",
     "text": [
      "Порошок при простуде Stada \"Гриппостад\" - Не помогает\n",
      "____________________\n",
      "Порошок при простуде Stada \"Гриппостад\" принимала в начале как только замечала признаки простуды. В других более тяжелых случаях конечно это нэеффективное средство, так как сейчас многие вирусные заболевания имеют очень агрессивную форму. Часто якобы обычная простуда переходит в серьезные воспаления легких или тяжелый бронхит. Поэтому лечится Гриппостадом не рекомендую и экспер. И если вначале не помогает парошок, то следует обратится к врачу для более серьезного назначения лекарственных средств. Если же простуда легкая, не вирусная инфекция, то в один или два приема действие Гриппостада должно быть ощутима. Цена порошка не очень дорогая при том, что можно покупать по одному или двум пакетикам. Советую, но при очень легкой простуде. \n"
     ]
    },
    {
     "name": "stderr",
     "output_type": "stream",
     "text": [
      "\r",
      "  1%|▍                                          | 7/734 [00:02<04:13,  2.86it/s]"
     ]
    },
    {
     "name": "stdout",
     "output_type": "stream",
     "text": [
      "Противовирусный препарат Ингавирин капсулы - деньги на ветер\n",
      "____________________\n",
      "Два дня назад появились продромальные явления, слабость, вялость, дискомфорт в носоглотке и пока совсем не слег заглянул в аптеку. В аптеке посоветовали Ингаверин - этот препарат, на сегодня самый назначаемый. Цена вопроса 477 руб. Но как говорится в известном анекдоте: - «ложки нашлись, а осадок остался» не подействовало. На 8-й день выпил наш отечественный растворимый антигриппин + арбидол и через 8 часов почувствовал себя гораздо лучше. Не тратьте деньги и время, есть проверенные и более действенные лекарственные препараты. Мое мнение о ингаверине ничего личного – только бизнес. Надеюсь мой отзыв о ингаверине будет Вам полезен. Год выпуска/покупки: 2014 \n"
     ]
    },
    {
     "name": "stderr",
     "output_type": "stream",
     "text": [
      "  1%|▍                                          | 7/734 [00:02<04:55,  2.46it/s]\n"
     ]
    },
    
   ],
   "source": [
    "summaries = []\n",
    "\n",
    "for text in tqdm(data[\"test\"]['text']):\n",
    "    input_ids = tokenizer.encode(\n",
    "        text,\n",
    "        return_tensors=\"pt\",\n",
    "        max_length=1024,\n",
    "        truncation=True,\n",
    "        ).to(device)\n",
    "\n",
    "    summary_text_ids = model.generate(\n",
    "        input_ids=input_ids,\n",
    "        bos_token_id=model.config.bos_token_id,\n",
    "        eos_token_id=model.config.eos_token_id,\n",
    "        max_length=142,\n",
    "        num_beams=4,\n",
    "    )\n",
    "    decoded_text = tokenizer.decode(summary_text_ids[0], skip_special_tokens=True)\n",
    "    print(decoded_text)\n",
    "    print(\"____________________\")\n",
    "    print()\n",
    "    print(text)\n",
    "    \n",
    "    summaries.append(decoded_text)"
   ]
  },
  {
   "cell_type": "code",
   "execution_count": 118,
   "id": "01b8d758",
   "metadata": {},
   "outputs": [],
   "source": [
    "results = rouge.compute(\n",
    "        predictions=summaries,\n",
    "        references=data[\"test\"]['summary']\n",
    "    )"
   ]
  },
  {
   "cell_type": "code",
   "execution_count": 119,
   "id": "78001c21",
   "metadata": {},
   "outputs": [
    {
     "data": {
      "text/plain": [
       "{'rouge1': 0.06561567406254055,\n",
       " 'rouge2': 0.02861035422343324,\n",
       " 'rougeL': 0.06514207862981704,\n",
       " 'rougeLsum': 0.06472687167510056}"
      ]
     },
     "execution_count": 119,
     "metadata": {},
     "output_type": "execute_result"
    }
   ],
   "source": [
    "results"
   ]
  },
  {
   "cell_type": "code",
   "execution_count": 124,
   "id": "cfb2bbfa",
   "metadata": {},
   "outputs": [
    {
     "data": {
      "text/plain": [
       "'Противовирусный препарат Bittner Richard Афлубин - Хороший препарат'"
      ]
     },
     "execution_count": 124,
     "metadata": {},
     "output_type": "execute_result"
    }
   ],
   "source": [
    "summaries[10]"
   ]
  },
  {
   "cell_type": "code",
   "execution_count": 125,
   "id": "289b245c",
   "metadata": {},
   "outputs": [
    {
     "data": {
      "text/plain": [
       "'Противовирусные таблетки для рассасывания Эргоферон - Действенный'"
      ]
     },
     "execution_count": 125,
     "metadata": {},
     "output_type": "execute_result"
    }
   ],
   "source": [
    "data[\"test\"]['summary'][10]"
   ]
  },
  {
   "cell_type": "code",
   "execution_count": 129,
   "id": "c1c34eca",
   "metadata": {},
   "outputs": [
    {
     "data": {
      "text/plain": [
       "Dataset({\n",
       "    features: ['summary', 'text'],\n",
       "    num_rows: 734\n",
       "})"
      ]
     },
     "execution_count": 129,
     "metadata": {},
     "output_type": "execute_result"
    }
   ],
   "source": [
    "data[\"test\"]"
   ]
  },
  {
   "cell_type": "code",
   "execution_count": 35,
   "id": "b06e5097",
   "metadata": {},
   "outputs": [
    {
     "data": {
      "text/plain": [
       "'С середины лета моя дочь в год и десять месяцев начала посещать детский сад, начался знакомый всем мамочкам, имеющим детей адаптационный период-привыкание не только к тому. что ребенок остается без любимой мамули, с которой он неразрывно существовал девять месяцев до рождения и соответственно после рождения..., а также к новым лицам-воспитателя, нянечкам и детишкам... Я надеялась что все обойдется без особых заболеваний. но сразу же после первой недели мы начали болеть... да болеть так что обычный гомеопатический препарат \"анаферон\" абсолютно не смог оказать на ее органзим никакого воздействия. напротив. может мне так только показалось. но после приема таблетки, начинала стремительно подниматься температура... В конце концов пришлось лечиться антибиотиками...( Время использования: 5 дней '"
      ]
     },
     "execution_count": 35,
     "metadata": {},
     "output_type": "execute_result"
    }
   ],
   "source": [
    "test_review[0]"
   ]
  },
  {
   "cell_type": "code",
   "execution_count": 26,
   "id": "3354ca06",
   "metadata": {
    "collapsed": true
   },
   "outputs": [
    {
     "data": {
      "text/plain": [
       "'Таблетки гомеопатические Анаферон детский - противовирусный препарат...'"
      ]
     },
     "execution_count": 26,
     "metadata": {},
     "output_type": "execute_result"
    }
   ],
   "source": [
    "test_target[0]"
   ]
  },
  {
   "cell_type": "code",
   "execution_count": 32,
   "id": "1f7618a1",
   "metadata": {},
   "outputs": [
    {
     "name": "stdout",
     "output_type": "stream",
     "text": [
      "415\n"
     ]
    }
   ],
   "source": [
    "for i in range(len(test_review)):\n",
    "    if test_review[i].find('Давно страдаю запорами, не знаю причину. Обычно не обращала на это особого внимания,')!=-1:\n",
    "        print(i)"
   ]
  },
  {
   "cell_type": "code",
   "execution_count": 33,
   "id": "a999edfa",
   "metadata": {},
   "outputs": [
    {
     "data": {
      "text/plain": [
       "'Слабительное Бисакодил-Хемофарм - Сильный, но...'"
      ]
     },
     "execution_count": 33,
     "metadata": {},
     "output_type": "execute_result"
    }
   ],
   "source": [
    "test_target[415]"
   ]
  },
  {
   "cell_type": "code",
   "execution_count": null,
   "id": "e83655d2",
   "metadata": {},
   "outputs": [],
   "source": []
  }
 ],
 "metadata": {
  "kernelspec": {
   "display_name": "my_env",
   "language": "python",
   "name": "my_env"
  },
  "language_info": {
   "codemirror_mode": {
    "name": "ipython",
    "version": 3
   },
   "file_extension": ".py",
   "mimetype": "text/x-python",
   "name": "python",
   "nbconvert_exporter": "python",
   "pygments_lexer": "ipython3",
   "version": "3.11.5"
  }
 },
 "nbformat": 4,
 "nbformat_minor": 5
}
