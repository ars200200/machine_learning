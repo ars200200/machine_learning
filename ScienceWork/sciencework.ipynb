{
 "cells": [
  {
   "cell_type": "code",
   "execution_count": 1,
   "id": "bfafd67e",
   "metadata": {},
   "outputs": [],
   "source": [
    "import os\n",
    "import json\n",
    "import numpy as np\n",
    "import torch \n",
    "import transformers\n",
    "import warnings\n",
    "\n",
    "\n",
    "from sklearn.model_selection import train_test_split\n",
    "from datasets.dataset_dict import DatasetDict\n",
    "from datasets import Dataset\n",
    "\n",
    "warnings.filterwarnings('ignore')"
   ]
  },
  {
   "cell_type": "code",
   "execution_count": 3,
   "id": "e233cee6",
   "metadata": {},
   "outputs": [],
   "source": [
    "import transformers\n",
    "from transformers import T5Tokenizer, T5ForConditionalGeneration"
   ]
  },
  {
   "cell_type": "code",
   "execution_count": 4,
   "id": "15af3ef8",
   "metadata": {},
   "outputs": [],
   "source": [
    "path = os.path.abspath('interim/3/train.json')"
   ]
  },
  {
   "cell_type": "code",
   "execution_count": 5,
   "id": "7ae108a8",
   "metadata": {},
   "outputs": [],
   "source": [
    "path = os.path.abspath('interim/3/train.json')\n",
    "\n",
    "with open(path) as js:\n",
    "    full_review = json.load(js)"
   ]
  },
  {
   "cell_type": "code",
   "execution_count": 6,
   "id": "3265a40b",
   "metadata": {},
   "outputs": [],
   "source": [
    "review = [None] * len(full_review)\n",
    "\n",
    "for i in range(len(full_review)):\n",
    "    review[i] = full_review[i]['text']"
   ]
  },
  {
   "cell_type": "markdown",
   "id": "a0d9c029",
   "metadata": {},
   "source": [
    "## preprocessing"
   ]
  },
  {
   "cell_type": "code",
   "execution_count": 7,
   "id": "53fdd80d",
   "metadata": {},
   "outputs": [],
   "source": [
    "target = [None] * len(review)\n",
    "main_review = [None] * len(review)"
   ]
  },
  {
   "cell_type": "code",
   "execution_count": 8,
   "id": "41ad81e8",
   "metadata": {},
   "outputs": [],
   "source": [
    "for i in range(len(review)):\n",
    "    #delete general_impression from review\n",
    "    main_review[i] = review[i]\n",
    "    general_impression_idx = main_review[i].find('Общее впечатление')\n",
    "    if general_impression_idx != -1:\n",
    "        main_review[i] = main_review[i][:general_impression_idx]\n",
    "        \n",
    "    #delete everything before review\n",
    "    review_idx = main_review[i].find('Отзыв: ')\n",
    "    if review_idx != -1:\n",
    "        main_review[i] = main_review[i][review_idx + len('Отзыв: '):]\n",
    "        \n",
    "    #target \n",
    "    target_idx = main_review[i].find('\\n')\n",
    "    target[i] = main_review[i][:target_idx]\n",
    "\n",
    "    #delete \"TEXT\" and \"\\n\" if they exist \n",
    "    TEXT_idx = main_review[i].rfind('\\n')\n",
    "    if TEXT_idx != -1:\n",
    "        main_review[i] = main_review[i][TEXT_idx + len('\\n'):]\n",
    "    "
   ]
  },
  {
   "cell_type": "code",
   "execution_count": 9,
   "id": "e0b6b12b",
   "metadata": {},
   "outputs": [],
   "source": [
    "train_review, test_review, train_target, test_target = train_test_split(main_review, target)"
   ]
  },
  {
   "cell_type": "code",
   "execution_count": 10,
   "id": "61cb5fc7",
   "metadata": {},
   "outputs": [],
   "source": [
    "model_checkpoint = 'cointegrated/rut5-base-absum'"
   ]
  },
  {
   "cell_type": "code",
   "execution_count": 11,
   "id": "ea417e46",
   "metadata": {},
   "outputs": [
    {
     "name": "stderr",
     "output_type": "stream",
     "text": [
      "You are using the default legacy behaviour of the <class 'transformers.models.t5.tokenization_t5.T5Tokenizer'>. If you see this, DO NOT PANIC! This is expected, and simply means that the `legacy` (previous) behavior will be used so nothing changes for you. If you want to use the new behaviour, set `legacy=True`. This should only be set if you understand what it means, and thouroughly read the reason why this was added as explained in https://github.com/huggingface/transformers/pull/24565\n"
     ]
    }
   ],
   "source": [
    "tokenizer = T5Tokenizer.from_pretrained(model_checkpoint)\n",
    "model = T5ForConditionalGeneration.from_pretrained(model_checkpoint)"
   ]
  },
  {
   "cell_type": "code",
   "execution_count": 12,
   "id": "04fad729",
   "metadata": {},
   "outputs": [],
   "source": [
    "data = {'train':Dataset.from_dict({'summary':train_target,'text':train_review}),\n",
    "     'test':Dataset.from_dict({'summary':test_target,'text':test_review})\n",
    "     }\n",
    "\n",
    "data = DatasetDict(data)"
   ]
  },
  {
   "cell_type": "code",
   "execution_count": 13,
   "id": "6d086972",
   "metadata": {},
   "outputs": [
    {
     "data": {
      "text/plain": [
       "DatasetDict({\n",
       "    train: Dataset({\n",
       "        features: ['summary', 'text'],\n",
       "        num_rows: 2200\n",
       "    })\n",
       "    test: Dataset({\n",
       "        features: ['summary', 'text'],\n",
       "        num_rows: 734\n",
       "    })\n",
       "})"
      ]
     },
     "execution_count": 13,
     "metadata": {},
     "output_type": "execute_result"
    }
   ],
   "source": [
    "data"
   ]
  },
  {
   "cell_type": "code",
   "execution_count": 29,
   "id": "7d5e3649",
   "metadata": {},
   "outputs": [],
   "source": [
    "max_intput_length = 1024\n",
    "max_target_length = 128"
   ]
  },
  {
   "cell_type": "code",
   "execution_count": 30,
   "id": "274bf387",
   "metadata": {},
   "outputs": [],
   "source": [
    "def preprocess_function(examples):\n",
    "    type(examples)\n",
    "    model_inputs = tokenizer(examples[\"text\"], max_length=max_intput_length, truncation=True, padding=True)\n",
    "\n",
    "    labels = tokenizer(text_target=examples[\"summary\"], max_length=max_target_length, truncation=True)\n",
    "\n",
    "    model_inputs[\"labels\"] = labels[\"input_ids\"]\n",
    "    return model_inputs"
   ]
  },
  {
   "cell_type": "code",
   "execution_count": 31,
   "id": "3199a885",
   "metadata": {},
   "outputs": [
    {
     "data": {
      "application/vnd.jupyter.widget-view+json": {
       "model_id": "",
       "version_major": 2,
       "version_minor": 0
      },
      "text/plain": [
       "Map:   0%|          | 0/2200 [00:00<?, ? examples/s]"
      ]
     },
     "metadata": {},
     "output_type": "display_data"
    },
    {
     "data": {
      "application/vnd.jupyter.widget-view+json": {
       "model_id": "",
       "version_major": 2,
       "version_minor": 0
      },
      "text/plain": [
       "Map:   0%|          | 0/734 [00:00<?, ? examples/s]"
      ]
     },
     "metadata": {},
     "output_type": "display_data"
    }
   ],
   "source": [
    "tokenized_data = data.map(preprocess_function, batched=True)"
   ]
  },
  {
   "cell_type": "code",
   "execution_count": 32,
   "id": "9a9459e6",
   "metadata": {},
   "outputs": [],
   "source": [
    "data_collator = transformers.DataCollatorForSeq2Seq(tokenizer=tokenizer, model=model)"
   ]
  },
  {
   "cell_type": "code",
   "execution_count": 106,
   "id": "1532338c",
   "metadata": {},
   "outputs": [],
   "source": [
    "training_args = transformers.Seq2SeqTrainingArguments(\n",
    "        output_dir=\"./results\",\n",
    "        evaluation_strategy=\"epoch\",\n",
    "        learning_rate=2e-5,\n",
    "        per_device_train_batch_size=1,\n",
    "        per_device_eval_batch_size=1,\n",
    "        weight_decay=0.01,\n",
    "        save_total_limit=3,\n",
    "        num_train_epochs=6,\n",
    "    )"
   ]
  },
  {
   "cell_type": "code",
   "execution_count": 107,
   "id": "6a4f28ec",
   "metadata": {},
   "outputs": [],
   "source": [
    "trainer = transformers.Seq2SeqTrainer(\n",
    "    model=model,\n",
    "    args=training_args,\n",
    "    train_dataset=tokenized_data[\"train\"],\n",
    "    eval_dataset=tokenized_data[\"test\"],\n",
    "    tokenizer=tokenizer,\n",
    "    data_collator=data_collator,\n",
    ")"
   ]
  },
  {
   "cell_type": "code",
   "execution_count": 108,
   "id": "d29d23c1",
   "metadata": {},
   "outputs": [
    {
     "data": {
      "text/html": [
       "\n",
       "    <div>\n",
       "      \n",
       "      <progress value='13200' max='13200' style='width:300px; height:20px; vertical-align: middle;'></progress>\n",
       "      [13200/13200 48:27, Epoch 6/6]\n",
       "    </div>\n",
       "    <table border=\"1\" class=\"dataframe\">\n",
       "  <thead>\n",
       " <tr style=\"text-align: left;\">\n",
       "      <th>Epoch</th>\n",
       "      <th>Training Loss</th>\n",
       "      <th>Validation Loss</th>\n",
       "    </tr>\n",
       "  </thead>\n",
       "  <tbody>\n",
       "    <tr>\n",
       "      <td>1</td>\n",
       "      <td>1.964900</td>\n",
       "      <td>1.861135</td>\n",
       "    </tr>\n",
       "    <tr>\n",
       "      <td>2</td>\n",
       "      <td>2.070300</td>\n",
       "      <td>1.793932</td>\n",
       "    </tr>\n",
       "    <tr>\n",
       "      <td>3</td>\n",
       "      <td>1.906800</td>\n",
       "      <td>1.731060</td>\n",
       "    </tr>\n",
       "    <tr>\n",
       "      <td>4</td>\n",
       "      <td>1.820700</td>\n",
       "      <td>1.707372</td>\n",
       "    </tr>\n",
       "    <tr>\n",
       "      <td>5</td>\n",
       "      <td>1.783700</td>\n",
       "      <td>1.701762</td>\n",
       "    </tr>\n",
       "    <tr>\n",
       "      <td>6</td>\n",
       "      <td>1.694800</td>\n",
       "      <td>1.699989</td>\n",
       "    </tr>\n",
       "  </tbody>\n",
       "</table><p>"
      ],
      "text/plain": [
       "<IPython.core.display.HTML object>"
      ]
     },
     "metadata": {},
     "output_type": "display_data"
    },
    {
     "data": {
      "text/plain": [
       "TrainOutput(global_step=13200, training_loss=1.8768957704486269, metrics={'train_runtime': 2908.0423, 'train_samples_per_second': 4.539, 'train_steps_per_second': 4.539, 'total_flos': 9225833527296000.0, 'train_loss': 1.8768957704486269, 'epoch': 6.0})"
      ]
     },
     "execution_count": 108,
     "metadata": {},
     "output_type": "execute_result"
    }
   ],
   "source": [
    "trainer.train()"
   ]
  },
  {
   "cell_type": "code",
   "execution_count": 22,
   "id": "c67d80e8",
   "metadata": {},
   "outputs": [
    {
     "data": {
      "text/plain": [
       "'cuda'"
      ]
     },
     "execution_count": 22,
     "metadata": {},
     "output_type": "execute_result"
    }
   ],
   "source": [
    "device = 'cuda' if torch.cuda.is_available() else 'cpu'\n",
    "device"
   ]
  },
  {
   "cell_type": "code",
   "execution_count": 109,
   "id": "03be6193",
   "metadata": {},
   "outputs": [
    {
     "name": "stdout",
     "output_type": "stream",
     "text": [
      "Впервые использовала свечи Макмирор после аборта на сроке почти 3 месяца. Из меня еще продолжали выходить мелкие куски и начались признаки воспаления. Это общая слабость, плохой цвет лица, воспаленные прыщи по лицу и плечам. Проставила 8 дней свечи Макмирор и как рукой сняло. При чем ни каких антибиотиков параллельно не принимала. Очень рекомендую женщинам при несильных воспалителтных процессах женских половых органов.\n"
     ]
    }
   ],
   "source": [
    "text_example = data[\"test\"]['text'][-1]\n",
    "print(text_example)"
   ]
  },
  {
   "cell_type": "code",
   "execution_count": 110,
   "id": "7a117a03",
   "metadata": {},
   "outputs": [],
   "source": [
    " input_ids = tokenizer.encode(\n",
    "    text_example,\n",
    "    return_tensors=\"pt\",\n",
    "    max_length=1024,\n",
    "    truncation=True,\n",
    "    ).to(device)"
   ]
  },
  {
   "cell_type": "code",
   "execution_count": 111,
   "id": "ebd784f9",
   "metadata": {},
   "outputs": [],
   "source": [
    "summary_text_ids = model.generate(\n",
    "    input_ids=input_ids,\n",
    "    bos_token_id=model.config.bos_token_id,\n",
    "    eos_token_id=model.config.eos_token_id,\n",
    "    max_length=max_target_length,\n",
    "    num_beams=4,\n",
    ")"
   ]
  },
  {
   "cell_type": "code",
   "execution_count": 112,
   "id": "aa51ca93",
   "metadata": {},
   "outputs": [
    {
     "data": {
      "text/plain": [
       "tensor([[    0, 14091,  2228, 19452, 29146, 10036,  5840,  2307,   313,  7911,\n",
       "          1280, 20118,   311,   259,   264,   259, 14061,  1909,  5548,   411,\n",
       "           805,   315, 15477,  8383,  4591,  1123, 11888,  3351,  2534,  3951,\n",
       "          2681,   685,     1]], device='cuda:0')"
      ]
     },
     "execution_count": 112,
     "metadata": {},
     "output_type": "execute_result"
    }
   ],
   "source": [
    "summary_text_ids"
   ]
  },
  {
   "cell_type": "code",
   "execution_count": 113,
   "id": "8549d63a",
   "metadata": {},
   "outputs": [
    {
     "data": {
      "text/plain": [
       "'Свечи ректальные Макмирор \"150000 МЕ\" - Хорошее средство при воспалительных процессах женских половых органов'"
      ]
     },
     "execution_count": 113,
     "metadata": {},
     "output_type": "execute_result"
    }
   ],
   "source": [
    "decoded_text = tokenizer.decode(summary_text_ids[0], skip_special_tokens=True)\n",
    "decoded_text"
   ]
  },
  {
   "cell_type": "code",
   "execution_count": 114,
   "id": "699c7e84",
   "metadata": {},
   "outputs": [
    {
     "data": {
      "text/plain": [
       "'Суппозитории вагинальные Макмирор - Свечи Макмирор удобные в использовании не мнутся не растекаются в руках.'"
      ]
     },
     "execution_count": 114,
     "metadata": {},
     "output_type": "execute_result"
    }
   ],
   "source": [
    "data['test']['summary'][-1]"
   ]
  },
  {
   "cell_type": "code",
   "execution_count": 115,
   "id": "a52dc5f6",
   "metadata": {},
   "outputs": [],
   "source": [
    "import evaluate\n",
    "from tqdm import tqdm"
   ]
  },
  {
   "cell_type": "code",
   "execution_count": 116,
   "id": "8d753f68",
   "metadata": {},
   "outputs": [],
   "source": [
    "rouge = evaluate.load('rouge')"
   ]
  },
  {
   "cell_type": "code",
   "execution_count": 132,
   "id": "0bdb35a7",
   "metadata": {
    "collapsed": true
   },
   "outputs": []
    
   "source": [
    "summaries = []\n",
    "\n",
    "for text in tqdm(data[\"test\"]['text']):\n",
    "    input_ids = tokenizer.encode(\n",
    "        text,\n",
    "        return_tensors=\"pt\",\n",
    "        max_length=1024,\n",
    "        truncation=True,\n",
    "        ).to(device)\n",
    "\n",
    "    summary_text_ids = model.generate(\n",
    "        input_ids=input_ids,\n",
    "        bos_token_id=model.config.bos_token_id,\n",
    "        eos_token_id=model.config.eos_token_id,\n",
    "        max_length=142,\n",
    "        num_beams=4,\n",
    "    )\n",
    "    decoded_text = tokenizer.decode(summary_text_ids[0], skip_special_tokens=True)\n",
    "    print(decoded_text)\n",
    "    print(\"____________________\")\n",
    "    print()\n",
    "    print(text)\n",
    "    \n",
    "    summaries.append(decoded_text)"
   ]
  },
  {
   "cell_type": "code",
   "execution_count": 118,
   "id": "01b8d758",
   "metadata": {},
   "outputs": [],
   "source": [
    "results = rouge.compute(\n",
    "        predictions=summaries,\n",
    "        references=data[\"test\"]['summary']\n",
    "    )"
   ]
  },
  {
   "cell_type": "code",
   "execution_count": 119,
   "id": "78001c21",
   "metadata": {},
   "outputs": [
    {
     "data": {
      "text/plain": [
       "{'rouge1': 0.06561567406254055,\n",
       " 'rouge2': 0.02861035422343324,\n",
       " 'rougeL': 0.06514207862981704,\n",
       " 'rougeLsum': 0.06472687167510056}"
      ]
     },
     "execution_count": 119,
     "metadata": {},
     "output_type": "execute_result"
    }
   ],
   "source": [
    "results"
   ]
  },
  {
   "cell_type": "code",
   "execution_count": 124,
   "id": "cfb2bbfa",
   "metadata": {},
   "outputs": [
    {
     "data": {
      "text/plain": [
       "'Противовирусный препарат Bittner Richard Афлубин - Хороший препарат'"
      ]
     },
     "execution_count": 124,
     "metadata": {},
     "output_type": "execute_result"
    }
   ],
   "source": [
    "summaries[10]"
   ]
  },
  {
   "cell_type": "code",
   "execution_count": 125,
   "id": "289b245c",
   "metadata": {},
   "outputs": [
    {
     "data": {
      "text/plain": [
       "'Противовирусные таблетки для рассасывания Эргоферон - Действенный'"
      ]
     },
     "execution_count": 125,
     "metadata": {},
     "output_type": "execute_result"
    }
   ],
   "source": [
    "data[\"test\"]['summary'][10]"
   ]
  },
  {
   "cell_type": "code",
   "execution_count": 129,
   "id": "c1c34eca",
   "metadata": {},
   "outputs": [
    {
     "data": {
      "text/plain": [
       "Dataset({\n",
       "    features: ['summary', 'text'],\n",
       "    num_rows: 734\n",
       "})"
      ]
     },
     "execution_count": 129,
     "metadata": {},
     "output_type": "execute_result"
    }
   ],
   "source": [
    "data[\"test\"]"
   ]
  },
  {
   "cell_type": "code",
   "execution_count": 35,
   "id": "b06e5097",
   "metadata": {},
   "outputs": [
    {
     "data": {
      "text/plain": [
       "'С середины лета моя дочь в год и десять месяцев начала посещать детский сад, начался знакомый всем мамочкам, имеющим детей адаптационный период-привыкание не только к тому. что ребенок остается без любимой мамули, с которой он неразрывно существовал девять месяцев до рождения и соответственно после рождения..., а также к новым лицам-воспитателя, нянечкам и детишкам... Я надеялась что все обойдется без особых заболеваний. но сразу же после первой недели мы начали болеть... да болеть так что обычный гомеопатический препарат \"анаферон\" абсолютно не смог оказать на ее органзим никакого воздействия. напротив. может мне так только показалось. но после приема таблетки, начинала стремительно подниматься температура... В конце концов пришлось лечиться антибиотиками...( Время использования: 5 дней '"
      ]
     },
     "execution_count": 35,
     "metadata": {},
     "output_type": "execute_result"
    }
   ],
   "source": [
    "test_review[0]"
   ]
  },
  {
   "cell_type": "code",
   "execution_count": 26,
   "id": "3354ca06",
   "metadata": {},
   "outputs": [
    {
     "data": {
      "text/plain": [
       "'Таблетки гомеопатические Анаферон детский - противовирусный препарат...'"
      ]
     },
     "execution_count": 26,
     "metadata": {},
     "output_type": "execute_result"
    }
   ],
   "source": [
    "test_target[0]"
   ]
  },
  {
   "cell_type": "code",
   "execution_count": 32,
   "id": "1f7618a1",
   "metadata": {},
   "outputs": [
    {
     "name": "stdout",
     "output_type": "stream",
     "text": [
      "415\n"
     ]
    }
   ],
   "source": [
    "for i in range(len(test_review)):\n",
    "    if test_review[i].find('Давно страдаю запорами, не знаю причину. Обычно не обращала на это особого внимания,')!=-1:\n",
    "        print(i)"
   ]
  },
  {
   "cell_type": "code",
   "execution_count": 33,
   "id": "a999edfa",
   "metadata": {},
   "outputs": [
    {
     "data": {
      "text/plain": [
       "'Слабительное Бисакодил-Хемофарм - Сильный, но...'"
      ]
     },
     "execution_count": 33,
     "metadata": {},
     "output_type": "execute_result"
    }
   ],
   "source": [
    "test_target[415]"
   ]
  },
  {
   "cell_type": "code",
   "execution_count": null,
   "id": "e83655d2",
   "metadata": {},
   "outputs": [],
   "source": []
  }
 ],
 "metadata": {
  "kernelspec": {
   "display_name": "my_env",
   "language": "python",
   "name": "my_env"
  },
  "language_info": {
   "codemirror_mode": {
    "name": "ipython",
    "version": 3
   },
   "file_extension": ".py",
   "mimetype": "text/x-python",
   "name": "python",
   "nbconvert_exporter": "python",
   "pygments_lexer": "ipython3",
   "version": "3.11.5"
  }
 },
 "nbformat": 4,
 "nbformat_minor": 5
}
