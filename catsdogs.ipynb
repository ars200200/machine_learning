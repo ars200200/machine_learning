{
  "cells": [
    {
      "cell_type": "markdown",
      "metadata": {
        "id": "view-in-github",
        "colab_type": "text"
      },
      "source": [
        "<a href=\"https://colab.research.google.com/github/ars200200/machine_learning/blob/main/catsdogs.ipynb\" target=\"_parent\"><img src=\"https://colab.research.google.com/assets/colab-badge.svg\" alt=\"Open In Colab\"/></a>"
      ]
    },
    {
      "cell_type": "code",
      "execution_count": null,
      "id": "690dd4da",
      "metadata": {
        "id": "690dd4da"
      },
      "outputs": [],
      "source": [
        "import torch\n",
        "import torch.nn as nn\n",
        "import torch.nn.functional as F\n",
        "\n",
        "import torchvision as tv\n",
        "\n",
        "import numpy as np\n",
        "import matplotlib.pyplot as plt\n",
        "import cv2\n",
        "\n",
        "\n",
        "import tqdm\n",
        "import os\n"
      ]
    },
    {
      "cell_type": "code",
      "execution_count": null,
      "id": "2ce60827",
      "metadata": {
        "id": "2ce60827",
        "outputId": "4324c87d-1f75-4e30-df2b-e4610024b1e8"
      },
      "outputs": [
        {
          "name": "stdout",
          "output_type": "stream",
          "text": [
            "Using matplotlib backend: QtAgg\n"
          ]
        }
      ],
      "source": [
        "%matplotlib\n",
        "%matplotlib inline"
      ]
    },
    {
      "cell_type": "code",
      "execution_count": null,
      "id": "39609805",
      "metadata": {
        "id": "39609805",
        "outputId": "b881fb5b-f011-4b08-e4c5-680dd5b4badd"
      },
      "outputs": [
        {
          "data": {
            "text/plain": [
              "['.ipynb_checkpoints', 'archive.zip', 'catsdogs.ipynb', 'Cv2.ipynb', 'dataset']"
            ]
          },
          "execution_count": 66,
          "metadata": {},
          "output_type": "execute_result"
        }
      ],
      "source": [
        "class Dataset2class(torch.utils.data.Dataset):\n",
        "    def __init__(self, path_dir1:str, path_dir2:str):\n",
        "        super().__init__()\n",
        "\n",
        "        self.path_dir1 = path_dir1\n",
        "        self.path_dir2 = path_dir2\n",
        "\n",
        "        self.dir1_list = sorted(os.listdir(path_dir1))\n",
        "        self.dir2_list = sorted(os.listdir(path_dir2))\n",
        "\n",
        "    def __len__(self):\n",
        "        return len(self.dir2_list) + len(self.dir1_list)\n",
        "\n",
        "    def __getitem__(self, idx :int):\n",
        "\n",
        "        if idx < len(self.dir1_list):\n",
        "            class_id = 0\n",
        "            img_path = os.path.join(self.path_dir1, self.dir1_list[idx])\n",
        "        else:\n",
        "            class_id = 1\n",
        "            idx -= len(self.dir1_list)\n",
        "            img_path = os.path.join(self.path_dir2, self.dir2_list[idx])\n",
        "\n",
        "        img = cv2.imread(img_path, cv2.IMREAD_COLOR)\n",
        "        img = cv2.cvtColor(img, cv2.COLOR_BGR2RGB)\n",
        "        img = img.astype(np.float32)\n",
        "        img /= 255.0\n",
        "\n",
        "        img = cv2.resize(img, (64, 64),  interpolation = cv2.INTER_AREA)\n",
        "        img = img.transpose((2, 0, 1))\n",
        "\n",
        "        t_img = torch.from_numpy(img)\n",
        "        t_class_id = torch.tensor(class_id)\n",
        "\n",
        "        return {'img': t_img, 'label': t_class_id}\n",
        "\n",
        "\n",
        "os.listdir()"
      ]
    },
    {
      "cell_type": "code",
      "execution_count": null,
      "id": "68e77ca4",
      "metadata": {
        "id": "68e77ca4"
      },
      "outputs": [],
      "source": [
        "train_ds_catsdogs = Dataset2class(\n",
        "    './dataset/training_set/dogs',\n",
        "    './dataset/training_set/cats'\n",
        ")\n",
        "\n",
        "test_ds_catsdogs = Dataset2class(\n",
        "    './dataset/test_set/dogs',\n",
        "    './dataset/test_set/cats'\n",
        ")"
      ]
    },
    {
      "cell_type": "code",
      "execution_count": null,
      "id": "08246746",
      "metadata": {
        "id": "08246746",
        "outputId": "5f664745-9421-4270-c5c0-b24cbced87a1"
      },
      "outputs": [
        {
          "data": {
            "text/plain": [
              "8000"
            ]
          },
          "execution_count": 61,
          "metadata": {},
          "output_type": "execute_result"
        }
      ],
      "source": [
        "len(train_ds_catsdogs)"
      ]
    },
    {
      "cell_type": "raw",
      "id": "cfe6bc6e",
      "metadata": {
        "id": "cfe6bc6e"
      },
      "source": [
        "len(test_ds_catsdogs)"
      ]
    },
    {
      "cell_type": "code",
      "execution_count": null,
      "id": "a49eb282",
      "metadata": {
        "id": "a49eb282"
      },
      "outputs": [],
      "source": [
        "batch_size = 16\n",
        "\n",
        "train_loader = torch.utils.data.DataLoader(\n",
        "    train_ds_catsdogs, shuffle=True,\n",
        "    batch_size=batch_size, num_workers=0, drop_last=True\n",
        "\n",
        ")\n",
        "test_loader = torch.utils.data.DataLoader(\n",
        "    test_ds_catsdogs, shuffle=True,\n",
        "    batch_size=batch_size, num_workers=0\n",
        "\n",
        "\n",
        ")"
      ]
    },
    {
      "cell_type": "code",
      "execution_count": null,
      "id": "d5021f0f",
      "metadata": {
        "id": "d5021f0f"
      },
      "outputs": [],
      "source": [
        "class ConvNet(nn.Module):\n",
        "    def __init__(self):\n",
        "        super().__init__()\n",
        "        self.act = nn.LeakyReLU(0.2)\n",
        "        self.maxpool = nn.MaxPool2d(2, 2)\n",
        "        self.conv0  = nn.Conv2d(3, 32, 3, stride=1, padding=0)\n",
        "        self.conv1  = nn.Conv2d(32, 32, 3, stride=1, padding=0)\n",
        "        self.conv2  = nn.Conv2d(32, 64, 3, stride=1, padding=0)\n",
        "        self.conv3  = nn.Conv2d(64, 128, 3, stride=1, padding=0)\n",
        "\n",
        "        self.adaptivepool = nn.AdaptiveAvgPool2d((1, 1))\n",
        "        self.flatten = nn.Flatten()\n",
        "\n",
        "        self.linear = nn.Linear(128, 20)\n",
        "        self.linear2 = nn.Linear(20, 2)\n",
        "\n",
        "    def forward(self, x):\n",
        "\n",
        "        out = self.conv0(x)\n",
        "        out = self.act(out)\n",
        "        out = self.maxpool(out)\n",
        "\n",
        "        out = self.conv1(out)\n",
        "        out = self.act(out)\n",
        "        out = self.maxpool(out)\n",
        "\n",
        "        out = self.conv2(out)\n",
        "        out = self.act(out)\n",
        "        out = self.maxpool(out)\n",
        "\n",
        "        out = self.conv3(out)\n",
        "        out = self.act(out)\n",
        "\n",
        "        out = self.adaptivepool(out)\n",
        "        out = self.flatten(out)\n",
        "        out = self.linear(out)\n",
        "        out = self.act(out)\n",
        "        out = self.linear2(out)\n",
        "\n",
        "\n",
        "\n",
        "        return out\n",
        ""
      ]
    },
    {
      "cell_type": "code",
      "execution_count": null,
      "id": "bd8f9fc6",
      "metadata": {
        "id": "bd8f9fc6",
        "outputId": "bbcb2b7e-8c21-4ae4-dfa7-70f81f0e56b3"
      },
      "outputs": [
        {
          "data": {
            "text/plain": [
              "ConvNet(\n",
              "  (act): LeakyReLU(negative_slope=0.2)\n",
              "  (maxpool): MaxPool2d(kernel_size=2, stride=2, padding=0, dilation=1, ceil_mode=False)\n",
              "  (conv0): Conv2d(3, 32, kernel_size=(3, 3), stride=(1, 1))\n",
              "  (conv1): Conv2d(32, 32, kernel_size=(3, 3), stride=(1, 1))\n",
              "  (conv2): Conv2d(32, 64, kernel_size=(3, 3), stride=(1, 1))\n",
              "  (conv3): Conv2d(64, 128, kernel_size=(3, 3), stride=(1, 1))\n",
              "  (adaptivepool): AdaptiveAvgPool2d(output_size=(1, 1))\n",
              "  (flatten): Flatten(start_dim=1, end_dim=-1)\n",
              "  (linear): Linear(in_features=128, out_features=20, bias=True)\n",
              "  (linear2): Linear(in_features=20, out_features=2, bias=True)\n",
              ")"
            ]
          },
          "execution_count": 123,
          "metadata": {},
          "output_type": "execute_result"
        }
      ],
      "source": [
        "model = ConvNet()\n",
        "model"
      ]
    },
    {
      "cell_type": "code",
      "execution_count": null,
      "id": "9e59a12f",
      "metadata": {
        "id": "9e59a12f"
      },
      "outputs": [],
      "source": [
        "for sample in train_loader:\n",
        "\n",
        "    img = sample['img']\n",
        "    label = sample['label']\n",
        "    model(img)\n",
        "    break\n"
      ]
    },
    {
      "cell_type": "code",
      "execution_count": null,
      "id": "a4e8b6a2",
      "metadata": {
        "id": "a4e8b6a2"
      },
      "outputs": [],
      "source": [
        "loss_fn = nn.CrossEntropyLoss()\n",
        "opimizer = torch.optim.Adam(model.parameters(), lr=0.001, betas = (0.9, 0.999))\n"
      ]
    },
    {
      "cell_type": "code",
      "execution_count": null,
      "id": "e2b7fa97",
      "metadata": {
        "id": "e2b7fa97"
      },
      "outputs": [],
      "source": [
        "def accuracy(pred, label):\n",
        "    answer = F.softmax(pred.detach()).numpy().argmax(1) == label.numpy().argmax(1)\n",
        "    return answer.mean()"
      ]
    },
    {
      "cell_type": "code",
      "execution_count": null,
      "id": "2b812efa",
      "metadata": {
        "id": "2b812efa",
        "outputId": "2887a2fa-30f4-42eb-85d3-5391cd3c772e"
      },
      "outputs": [
        {
          "name": "stderr",
          "output_type": "stream",
          "text": [
            "  0%|          | 0/500 [00:00<?, ?it/s]C:\\Users\\admin\\AppData\\Local\\Temp\\ipykernel_7176\\1416373963.py:2: UserWarning: Implicit dimension choice for softmax has been deprecated. Change the call to include dim=X as an argument.\n",
            "  answer = F.softmax(pred.detach()).numpy().argmax(1) == label.numpy().argmax(1)\n",
            "100%|██████████| 500/500 [00:46<00:00, 10.83it/s]\n"
          ]
        },
        {
          "name": "stdout",
          "output_type": "stream",
          "text": [
            "0.6880267058610916\n",
            "0.542\n"
          ]
        },
        {
          "name": "stderr",
          "output_type": "stream",
          "text": [
            "100%|██████████| 500/500 [00:45<00:00, 10.90it/s]\n"
          ]
        },
        {
          "name": "stdout",
          "output_type": "stream",
          "text": [
            "0.662888898730278\n",
            "0.611\n"
          ]
        },
        {
          "name": "stderr",
          "output_type": "stream",
          "text": [
            "100%|██████████| 500/500 [00:44<00:00, 11.25it/s]\n"
          ]
        },
        {
          "name": "stdout",
          "output_type": "stream",
          "text": [
            "0.6204289882183075\n",
            "0.65975\n"
          ]
        },
        {
          "name": "stderr",
          "output_type": "stream",
          "text": [
            "100%|██████████| 500/500 [00:44<00:00, 11.33it/s]\n"
          ]
        },
        {
          "name": "stdout",
          "output_type": "stream",
          "text": [
            "0.5529789694547653\n",
            "0.714375\n"
          ]
        },
        {
          "name": "stderr",
          "output_type": "stream",
          "text": [
            "100%|██████████| 500/500 [00:42<00:00, 11.65it/s]\n"
          ]
        },
        {
          "name": "stdout",
          "output_type": "stream",
          "text": [
            "0.509442705899477\n",
            "0.74825\n"
          ]
        },
        {
          "name": "stderr",
          "output_type": "stream",
          "text": [
            "100%|██████████| 500/500 [00:39<00:00, 12.65it/s]\n"
          ]
        },
        {
          "name": "stdout",
          "output_type": "stream",
          "text": [
            "0.4738166239261627\n",
            "0.767625\n"
          ]
        },
        {
          "name": "stderr",
          "output_type": "stream",
          "text": [
            "100%|██████████| 500/500 [00:38<00:00, 12.83it/s]\n"
          ]
        },
        {
          "name": "stdout",
          "output_type": "stream",
          "text": [
            "0.4303026000261307\n",
            "0.797\n"
          ]
        },
        {
          "name": "stderr",
          "output_type": "stream",
          "text": [
            "100%|██████████| 500/500 [00:39<00:00, 12.60it/s]\n"
          ]
        },
        {
          "name": "stdout",
          "output_type": "stream",
          "text": [
            "0.398545144289732\n",
            "0.818125\n"
          ]
        },
        {
          "name": "stderr",
          "output_type": "stream",
          "text": [
            "100%|██████████| 500/500 [00:39<00:00, 12.58it/s]\n"
          ]
        },
        {
          "name": "stdout",
          "output_type": "stream",
          "text": [
            "0.3725748079270124\n",
            "0.824\n"
          ]
        },
        {
          "name": "stderr",
          "output_type": "stream",
          "text": [
            "100%|██████████| 500/500 [00:40<00:00, 12.49it/s]"
          ]
        },
        {
          "name": "stdout",
          "output_type": "stream",
          "text": [
            "0.3288432320356369\n",
            "0.8515\n"
          ]
        },
        {
          "name": "stderr",
          "output_type": "stream",
          "text": [
            "\n"
          ]
        }
      ],
      "source": [
        "epochs = 10\n",
        "for epoch in range(epochs):\n",
        "    loss_val = 0\n",
        "    acc_val = 0\n",
        "    for sample in (pbar := tqdm.tqdm(train_loader)):\n",
        "        img, label = sample['img'], sample['label']\n",
        "        opimizer.zero_grad()\n",
        "\n",
        "        label = F.one_hot(label, 2).float()\n",
        "        pred = model(img)\n",
        "\n",
        "        loss = loss_fn(pred, label)\n",
        "\n",
        "        loss.backward()\n",
        "        loss_item = loss.item()\n",
        "        loss_val += loss_item\n",
        "\n",
        "        opimizer.step()\n",
        "        acc_current = accuracy(pred, label)\n",
        "        acc_val += acc_current\n",
        "\n",
        "    pbar.set_description(f'loss:{loss_item:.4e}')\n",
        "    print(loss_val/len(train_loader))\n",
        "    print(acc_val/len(train_loader))\n"
      ]
    },
    {
      "cell_type": "code",
      "execution_count": null,
      "id": "40c0417c",
      "metadata": {
        "id": "40c0417c"
      },
      "outputs": [],
      "source": []
    },
    {
      "cell_type": "code",
      "execution_count": null,
      "id": "b8069165",
      "metadata": {
        "id": "b8069165"
      },
      "outputs": [],
      "source": []
    }
  ],
  "metadata": {
    "kernelspec": {
      "display_name": "Python 3 (ipykernel)",
      "language": "python",
      "name": "python3"
    },
    "language_info": {
      "codemirror_mode": {
        "name": "ipython",
        "version": 3
      },
      "file_extension": ".py",
      "mimetype": "text/x-python",
      "name": "python",
      "nbconvert_exporter": "python",
      "pygments_lexer": "ipython3",
      "version": "3.11.5"
    },
    "colab": {
      "provenance": [],
      "include_colab_link": true
    }
  },
  "nbformat": 4,
  "nbformat_minor": 5
}